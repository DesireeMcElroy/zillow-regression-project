{
 "cells": [
  {
   "cell_type": "code",
   "execution_count": 1,
   "metadata": {},
   "outputs": [],
   "source": [
    "import pandas as pd\n",
    "import numpy as np\n",
    "import wrangle\n",
    "import explore\n",
    "\n",
    "import seaborn as sns\n",
    "import matplotlib.pyplot as plt\n",
    "\n",
    "import warnings\n",
    "warnings.filterwarnings(\"ignore\")\n",
    "\n",
    "from scipy import stats\n",
    "from math import sqrt\n",
    "\n",
    "import sklearn.preprocessing\n",
    "from sklearn.preprocessing import PolynomialFeatures\n",
    "from sklearn.linear_model import LinearRegression, LassoLars, TweedieRegressor\n",
    "from sklearn.metrics import mean_squared_error, r2_score, explained_variance_score\n",
    "from sklearn.feature_selection import f_regression, SelectKBest, RFE"
   ]
  },
  {
   "cell_type": "markdown",
   "metadata": {},
   "source": [
    "## Wrangle My Data:\n",
    "- Acquire my dataframe\n",
    "- Prepare/Clean my Dataframe\n",
    "- Complete initial exploration to verify."
   ]
  },
  {
   "cell_type": "code",
   "execution_count": 2,
   "metadata": {},
   "outputs": [],
   "source": [
    "# acquire my dataframe from sql\n",
    "df = wrangle.get_zillow()"
   ]
  },
  {
   "cell_type": "code",
   "execution_count": 3,
   "metadata": {},
   "outputs": [],
   "source": [
    "# first address white spaces\n",
    "df = df.replace(r'^\\s*$', np.nan, regex=True)"
   ]
  },
  {
   "cell_type": "code",
   "execution_count": 4,
   "metadata": {},
   "outputs": [
    {
     "name": "stdout",
     "output_type": "stream",
     "text": [
      "<class 'pandas.core.frame.DataFrame'>\n",
      "RangeIndex: 38396 entries, 0 to 38395\n",
      "Data columns (total 8 columns):\n",
      " #   Column                        Non-Null Count  Dtype  \n",
      "---  ------                        --------------  -----  \n",
      " 0   bedroomcnt                    38396 non-null  float64\n",
      " 1   bathroomcnt                   38396 non-null  float64\n",
      " 2   calculatedfinishedsquarefeet  38288 non-null  float64\n",
      " 3   taxvaluedollarcnt             38395 non-null  float64\n",
      " 4   yearbuilt                     38264 non-null  float64\n",
      " 5   taxamount                     38395 non-null  float64\n",
      " 6   fips                          38396 non-null  float64\n",
      " 7   parcelid                      38396 non-null  int64  \n",
      "dtypes: float64(7), int64(1)\n",
      "memory usage: 2.3 MB\n",
      "None\n",
      "------------------------\n",
      "------------------------\n",
      "This dataframe has 38396 rows and 8 columns.\n",
      "------------------------\n",
      "Null count in dataframe:\n",
      "------------------------\n",
      "bedroomcnt                        0\n",
      "bathroomcnt                       0\n",
      "calculatedfinishedsquarefeet    108\n",
      "taxvaluedollarcnt                 1\n",
      "yearbuilt                       132\n",
      "taxamount                         1\n",
      "fips                              0\n",
      "parcelid                          0\n",
      "dtype: int64\n",
      " Dataframe sample:\n"
     ]
    },
    {
     "data": {
      "text/html": [
       "<div>\n",
       "<style scoped>\n",
       "    .dataframe tbody tr th:only-of-type {\n",
       "        vertical-align: middle;\n",
       "    }\n",
       "\n",
       "    .dataframe tbody tr th {\n",
       "        vertical-align: top;\n",
       "    }\n",
       "\n",
       "    .dataframe thead th {\n",
       "        text-align: right;\n",
       "    }\n",
       "</style>\n",
       "<table border=\"1\" class=\"dataframe\">\n",
       "  <thead>\n",
       "    <tr style=\"text-align: right;\">\n",
       "      <th></th>\n",
       "      <th>bedroomcnt</th>\n",
       "      <th>bathroomcnt</th>\n",
       "      <th>calculatedfinishedsquarefeet</th>\n",
       "      <th>taxvaluedollarcnt</th>\n",
       "      <th>yearbuilt</th>\n",
       "      <th>taxamount</th>\n",
       "      <th>fips</th>\n",
       "      <th>parcelid</th>\n",
       "    </tr>\n",
       "  </thead>\n",
       "  <tbody>\n",
       "    <tr>\n",
       "      <th>26069</th>\n",
       "      <td>3.0</td>\n",
       "      <td>2.0</td>\n",
       "      <td>1405.0</td>\n",
       "      <td>282181.0</td>\n",
       "      <td>1971.0</td>\n",
       "      <td>3460.86</td>\n",
       "      <td>6037.0</td>\n",
       "      <td>12813001</td>\n",
       "    </tr>\n",
       "    <tr>\n",
       "      <th>36835</th>\n",
       "      <td>2.0</td>\n",
       "      <td>2.5</td>\n",
       "      <td>1877.0</td>\n",
       "      <td>883000.0</td>\n",
       "      <td>2005.0</td>\n",
       "      <td>9950.32</td>\n",
       "      <td>6059.0</td>\n",
       "      <td>14706711</td>\n",
       "    </tr>\n",
       "    <tr>\n",
       "      <th>10101</th>\n",
       "      <td>4.0</td>\n",
       "      <td>2.0</td>\n",
       "      <td>2064.0</td>\n",
       "      <td>644943.0</td>\n",
       "      <td>1964.0</td>\n",
       "      <td>7528.65</td>\n",
       "      <td>6037.0</td>\n",
       "      <td>13078992</td>\n",
       "    </tr>\n",
       "  </tbody>\n",
       "</table>\n",
       "</div>"
      ],
      "text/plain": [
       "       bedroomcnt  bathroomcnt  calculatedfinishedsquarefeet  \\\n",
       "26069         3.0          2.0                        1405.0   \n",
       "36835         2.0          2.5                        1877.0   \n",
       "10101         4.0          2.0                        2064.0   \n",
       "\n",
       "       taxvaluedollarcnt  yearbuilt  taxamount    fips  parcelid  \n",
       "26069           282181.0     1971.0    3460.86  6037.0  12813001  \n",
       "36835           883000.0     2005.0    9950.32  6059.0  14706711  \n",
       "10101           644943.0     1964.0    7528.65  6037.0  13078992  "
      ]
     },
     "execution_count": 4,
     "metadata": {},
     "output_type": "execute_result"
    }
   ],
   "source": [
    "# use my info function to find out more information\n",
    "wrangle.get_info(df)"
   ]
  },
  {
   "cell_type": "code",
   "execution_count": 5,
   "metadata": {},
   "outputs": [],
   "source": [
    "# let's rename our columns so they are more clear\n",
    "df.rename(columns={'bedroomcnt': 'num_bedroom', \n",
    "                     'bathroomcnt': 'num_bathroom',\n",
    "                     'calculatedfinishedsquarefeet': 'finished_sqft',\n",
    "                     'taxvaluedollarcnt': 'tax_value',\n",
    "                     'yearbuilt': 'build_year',\n",
    "                     'taxamount': 'property_tax'}, inplace=True)"
   ]
  },
  {
   "cell_type": "code",
   "execution_count": 6,
   "metadata": {},
   "outputs": [
    {
     "name": "stdout",
     "output_type": "stream",
     "text": [
      "num_bedroom      0\n",
      "num_bathroom     0\n",
      "finished_sqft    0\n",
      "tax_value        0\n",
      "build_year       0\n",
      "property_tax     0\n",
      "fips             0\n",
      "parcelid         0\n",
      "dtype: int64\n"
     ]
    },
    {
     "data": {
      "text/plain": [
       "(38258, 8)"
      ]
     },
     "execution_count": 6,
     "metadata": {},
     "output_type": "execute_result"
    }
   ],
   "source": [
    "# since the nulls only account for .003 of the dataframe, let's drop nulls\n",
    "df.dropna(inplace=True)\n",
    "print(df.isnull().sum())\n",
    "df.shape"
   ]
  },
  {
   "cell_type": "code",
   "execution_count": 7,
   "metadata": {},
   "outputs": [
    {
     "data": {
      "text/plain": [
       "(38226, 8)"
      ]
     },
     "execution_count": 7,
     "metadata": {},
     "output_type": "execute_result"
    }
   ],
   "source": [
    "df.drop_duplicates(inplace=True)\n",
    "df.shape"
   ]
  },
  {
   "cell_type": "code",
   "execution_count": 8,
   "metadata": {},
   "outputs": [
    {
     "data": {
      "text/plain": [
       "num_bedroom         13\n",
       "num_bathroom        19\n",
       "finished_sqft     4187\n",
       "tax_value        28238\n",
       "build_year         131\n",
       "property_tax     37317\n",
       "fips                 3\n",
       "parcelid         38226\n",
       "dtype: int64"
      ]
     },
     "execution_count": 8,
     "metadata": {},
     "output_type": "execute_result"
    }
   ],
   "source": [
    "# Tells us unique count\n",
    "df.nunique()"
   ]
  },
  {
   "cell_type": "code",
   "execution_count": 9,
   "metadata": {},
   "outputs": [
    {
     "data": {
      "text/html": [
       "<div>\n",
       "<style scoped>\n",
       "    .dataframe tbody tr th:only-of-type {\n",
       "        vertical-align: middle;\n",
       "    }\n",
       "\n",
       "    .dataframe tbody tr th {\n",
       "        vertical-align: top;\n",
       "    }\n",
       "\n",
       "    .dataframe thead th {\n",
       "        text-align: right;\n",
       "    }\n",
       "</style>\n",
       "<table border=\"1\" class=\"dataframe\">\n",
       "  <thead>\n",
       "    <tr style=\"text-align: right;\">\n",
       "      <th></th>\n",
       "      <th>count</th>\n",
       "      <th>mean</th>\n",
       "      <th>std</th>\n",
       "      <th>min</th>\n",
       "      <th>25%</th>\n",
       "      <th>50%</th>\n",
       "      <th>75%</th>\n",
       "      <th>max</th>\n",
       "    </tr>\n",
       "  </thead>\n",
       "  <tbody>\n",
       "    <tr>\n",
       "      <th>num_bedroom</th>\n",
       "      <td>38226.0</td>\n",
       "      <td>3.022681</td>\n",
       "      <td>1.014806</td>\n",
       "      <td>0.00</td>\n",
       "      <td>2.00</td>\n",
       "      <td>3.00</td>\n",
       "      <td>4.0000</td>\n",
       "      <td>12.00</td>\n",
       "    </tr>\n",
       "    <tr>\n",
       "      <th>num_bathroom</th>\n",
       "      <td>38226.0</td>\n",
       "      <td>2.281745</td>\n",
       "      <td>0.943957</td>\n",
       "      <td>0.00</td>\n",
       "      <td>2.00</td>\n",
       "      <td>2.00</td>\n",
       "      <td>3.0000</td>\n",
       "      <td>11.00</td>\n",
       "    </tr>\n",
       "    <tr>\n",
       "      <th>finished_sqft</th>\n",
       "      <td>38226.0</td>\n",
       "      <td>1764.114582</td>\n",
       "      <td>927.452077</td>\n",
       "      <td>240.00</td>\n",
       "      <td>1174.00</td>\n",
       "      <td>1528.00</td>\n",
       "      <td>2085.0000</td>\n",
       "      <td>17245.00</td>\n",
       "    </tr>\n",
       "    <tr>\n",
       "      <th>tax_value</th>\n",
       "      <td>38226.0</td>\n",
       "      <td>496290.981348</td>\n",
       "      <td>629482.402761</td>\n",
       "      <td>1000.00</td>\n",
       "      <td>209401.50</td>\n",
       "      <td>364991.00</td>\n",
       "      <td>578708.5000</td>\n",
       "      <td>23858374.00</td>\n",
       "    </tr>\n",
       "    <tr>\n",
       "      <th>build_year</th>\n",
       "      <td>38226.0</td>\n",
       "      <td>1969.475749</td>\n",
       "      <td>23.102659</td>\n",
       "      <td>1878.00</td>\n",
       "      <td>1954.00</td>\n",
       "      <td>1970.00</td>\n",
       "      <td>1987.0000</td>\n",
       "      <td>2016.00</td>\n",
       "    </tr>\n",
       "    <tr>\n",
       "      <th>property_tax</th>\n",
       "      <td>38226.0</td>\n",
       "      <td>6041.119686</td>\n",
       "      <td>7319.556260</td>\n",
       "      <td>19.92</td>\n",
       "      <td>2728.97</td>\n",
       "      <td>4480.26</td>\n",
       "      <td>7001.7475</td>\n",
       "      <td>276797.83</td>\n",
       "    </tr>\n",
       "    <tr>\n",
       "      <th>fips</th>\n",
       "      <td>38226.0</td>\n",
       "      <td>6049.504630</td>\n",
       "      <td>20.922553</td>\n",
       "      <td>6037.00</td>\n",
       "      <td>6037.00</td>\n",
       "      <td>6037.00</td>\n",
       "      <td>6059.0000</td>\n",
       "      <td>6111.00</td>\n",
       "    </tr>\n",
       "  </tbody>\n",
       "</table>\n",
       "</div>"
      ],
      "text/plain": [
       "                 count           mean            std      min        25%  \\\n",
       "num_bedroom    38226.0       3.022681       1.014806     0.00       2.00   \n",
       "num_bathroom   38226.0       2.281745       0.943957     0.00       2.00   \n",
       "finished_sqft  38226.0    1764.114582     927.452077   240.00    1174.00   \n",
       "tax_value      38226.0  496290.981348  629482.402761  1000.00  209401.50   \n",
       "build_year     38226.0    1969.475749      23.102659  1878.00    1954.00   \n",
       "property_tax   38226.0    6041.119686    7319.556260    19.92    2728.97   \n",
       "fips           38226.0    6049.504630      20.922553  6037.00    6037.00   \n",
       "\n",
       "                     50%          75%          max  \n",
       "num_bedroom         3.00       4.0000        12.00  \n",
       "num_bathroom        2.00       3.0000        11.00  \n",
       "finished_sqft    1528.00    2085.0000     17245.00  \n",
       "tax_value      364991.00  578708.5000  23858374.00  \n",
       "build_year       1970.00    1987.0000      2016.00  \n",
       "property_tax     4480.26    7001.7475    276797.83  \n",
       "fips             6037.00    6059.0000      6111.00  "
      ]
     },
     "execution_count": 9,
     "metadata": {},
     "output_type": "execute_result"
    }
   ],
   "source": [
    "# now that we've been able to drop any houses with duplicate parcel ids, we can drop the column\n",
    "df.drop(columns='parcelid', inplace=True)\n",
    "df.describe().T"
   ]
  },
  {
   "cell_type": "code",
   "execution_count": 10,
   "metadata": {},
   "outputs": [
    {
     "name": "stdout",
     "output_type": "stream",
     "text": [
      "num_bedroom\n",
      "3.0     15503\n",
      "2.0      9685\n",
      "4.0      8680\n",
      "5.0      2151\n",
      "1.0      1659\n",
      "6.0       338\n",
      "0.0       143\n",
      "7.0        50\n",
      "8.0         8\n",
      "9.0         4\n",
      "10.0        2\n",
      "11.0        2\n",
      "12.0        1\n",
      "Name: num_bedroom, dtype: int64\n",
      "-------------\n",
      "num_bathroom\n",
      "2.0     15827\n",
      "3.0      8286\n",
      "1.0      6555\n",
      "2.5      3606\n",
      "4.0      1336\n",
      "1.5       736\n",
      "3.5       594\n",
      "5.0       456\n",
      "4.5       385\n",
      "6.0       179\n",
      "5.5       111\n",
      "7.0        52\n",
      "0.0        30\n",
      "8.0        29\n",
      "6.5        27\n",
      "7.5         9\n",
      "9.0         5\n",
      "11.0        2\n",
      "10.0        1\n",
      "Name: num_bathroom, dtype: int64\n",
      "-------------\n",
      "fips\n",
      "6037.0    23989\n",
      "6059.0    11068\n",
      "6111.0     3169\n",
      "Name: fips, dtype: int64\n",
      "-------------\n"
     ]
    }
   ],
   "source": [
    "column = ['num_bedroom', 'num_bathroom', 'fips']\n",
    "wrangle.value_counts(df, column)"
   ]
  },
  {
   "cell_type": "code",
   "execution_count": 18,
   "metadata": {},
   "outputs": [],
   "source": [
    "df['fips'] = df['fips'].astype(str)\n",
    "df.loc[df['fips'].str[0] == '6','State'] = 'California'\n",
    "df.loc[df['fips'].str.contains('111'),'County'] = 'Ventura'\n",
    "df.loc[df['fips'].str.contains('037'),'County'] = 'Los Angeles'\n",
    "df.loc[df['fips'].str.contains('059'),'County'] = 'Orange'\n",
    "df['fips'] = df['fips'].astype(float)\n",
    "    \n",
    "df['tax_rate'] = (df['property_tax']/df['tax_value'] * 100)"
   ]
  },
  {
   "cell_type": "code",
   "execution_count": 19,
   "metadata": {},
   "outputs": [
    {
     "data": {
      "text/html": [
       "<div>\n",
       "<style scoped>\n",
       "    .dataframe tbody tr th:only-of-type {\n",
       "        vertical-align: middle;\n",
       "    }\n",
       "\n",
       "    .dataframe tbody tr th {\n",
       "        vertical-align: top;\n",
       "    }\n",
       "\n",
       "    .dataframe thead th {\n",
       "        text-align: right;\n",
       "    }\n",
       "</style>\n",
       "<table border=\"1\" class=\"dataframe\">\n",
       "  <thead>\n",
       "    <tr style=\"text-align: right;\">\n",
       "      <th></th>\n",
       "      <th>num_bedroom</th>\n",
       "      <th>num_bathroom</th>\n",
       "      <th>finished_sqft</th>\n",
       "      <th>tax_value</th>\n",
       "      <th>build_year</th>\n",
       "      <th>property_tax</th>\n",
       "      <th>fips</th>\n",
       "      <th>State</th>\n",
       "      <th>County</th>\n",
       "      <th>tax_rate</th>\n",
       "    </tr>\n",
       "  </thead>\n",
       "  <tbody>\n",
       "    <tr>\n",
       "      <th>0</th>\n",
       "      <td>3.0</td>\n",
       "      <td>2.0</td>\n",
       "      <td>1125.0</td>\n",
       "      <td>289445.0</td>\n",
       "      <td>1974.0</td>\n",
       "      <td>3490.16</td>\n",
       "      <td>6059.0</td>\n",
       "      <td>California</td>\n",
       "      <td>Orange</td>\n",
       "      <td>1.205811</td>\n",
       "    </tr>\n",
       "    <tr>\n",
       "      <th>1</th>\n",
       "      <td>3.0</td>\n",
       "      <td>2.0</td>\n",
       "      <td>1316.0</td>\n",
       "      <td>205123.0</td>\n",
       "      <td>1923.0</td>\n",
       "      <td>2627.48</td>\n",
       "      <td>6037.0</td>\n",
       "      <td>California</td>\n",
       "      <td>Los Angeles</td>\n",
       "      <td>1.280929</td>\n",
       "    </tr>\n",
       "    <tr>\n",
       "      <th>2</th>\n",
       "      <td>3.0</td>\n",
       "      <td>2.0</td>\n",
       "      <td>1458.0</td>\n",
       "      <td>136104.0</td>\n",
       "      <td>1970.0</td>\n",
       "      <td>2319.90</td>\n",
       "      <td>6037.0</td>\n",
       "      <td>California</td>\n",
       "      <td>Los Angeles</td>\n",
       "      <td>1.704505</td>\n",
       "    </tr>\n",
       "    <tr>\n",
       "      <th>3</th>\n",
       "      <td>3.0</td>\n",
       "      <td>2.0</td>\n",
       "      <td>1766.0</td>\n",
       "      <td>810694.0</td>\n",
       "      <td>1980.0</td>\n",
       "      <td>9407.01</td>\n",
       "      <td>6037.0</td>\n",
       "      <td>California</td>\n",
       "      <td>Los Angeles</td>\n",
       "      <td>1.160365</td>\n",
       "    </tr>\n",
       "    <tr>\n",
       "      <th>4</th>\n",
       "      <td>2.0</td>\n",
       "      <td>1.0</td>\n",
       "      <td>1421.0</td>\n",
       "      <td>35606.0</td>\n",
       "      <td>1911.0</td>\n",
       "      <td>543.69</td>\n",
       "      <td>6037.0</td>\n",
       "      <td>California</td>\n",
       "      <td>Los Angeles</td>\n",
       "      <td>1.526962</td>\n",
       "    </tr>\n",
       "  </tbody>\n",
       "</table>\n",
       "</div>"
      ],
      "text/plain": [
       "   num_bedroom  num_bathroom  finished_sqft  tax_value  build_year  \\\n",
       "0          3.0           2.0         1125.0   289445.0      1974.0   \n",
       "1          3.0           2.0         1316.0   205123.0      1923.0   \n",
       "2          3.0           2.0         1458.0   136104.0      1970.0   \n",
       "3          3.0           2.0         1766.0   810694.0      1980.0   \n",
       "4          2.0           1.0         1421.0    35606.0      1911.0   \n",
       "\n",
       "   property_tax    fips       State       County  tax_rate  \n",
       "0       3490.16  6059.0  California       Orange  1.205811  \n",
       "1       2627.48  6037.0  California  Los Angeles  1.280929  \n",
       "2       2319.90  6037.0  California  Los Angeles  1.704505  \n",
       "3       9407.01  6037.0  California  Los Angeles  1.160365  \n",
       "4        543.69  6037.0  California  Los Angeles  1.526962  "
      ]
     },
     "execution_count": 19,
     "metadata": {},
     "output_type": "execute_result"
    }
   ],
   "source": [
    "df.head()"
   ]
  },
  {
   "cell_type": "code",
   "execution_count": 12,
   "metadata": {},
   "outputs": [
    {
     "data": {
      "image/png": "[encoded data removed]",
      "text/plain": [
       "<Figure size 432x288 with 1 Axes>"
      ]
     },
     "metadata": {
      "needs_background": "light"
     },
     "output_type": "display_data"
    },
    {
     "data": {
      "image/png": "[encoded data removed]",
      "text/plain": [
       "<Figure size 432x288 with 1 Axes>"
      ]
     },
     "metadata": {
      "needs_background": "light"
     },
     "output_type": "display_data"
    },
    {
     "data": {
      "image/png": "[encoded data removed]",
      "text/plain": [
       "<Figure size 432x288 with 1 Axes>"
      ]
     },
     "metadata": {
      "needs_background": "light"
     },
     "output_type": "display_data"
    },
    {
     "data": {
      "image/png": "[encoded data removed]",
      "text/plain": [
       "<Figure size 432x288 with 1 Axes>"
      ]
     },
     "metadata": {
      "needs_background": "light"
     },
     "output_type": "display_data"
    },
    {
     "data": {
      "image/png": "[encoded data removed]",
      "text/plain": [
       "<Figure size 432x288 with 1 Axes>"
      ]
     },
     "metadata": {
      "needs_background": "light"
     },
     "output_type": "display_data"
    }
   ],
   "source": [
    "# visualize outliers\n",
    "cols = df.drop(columns=['tax_value', 'fips'])\n",
    "explore.scatterplot(cols, df.tax_value, df)"
   ]
  },
  {
   "cell_type": "code",
   "execution_count": 13,
   "metadata": {},
   "outputs": [
    {
     "data": {
      "text/plain": [
       "(38226, 7)"
      ]
     },
     "execution_count": 13,
     "metadata": {},
     "output_type": "execute_result"
    }
   ],
   "source": [
    "df.shape"
   ]
  },
  {
   "cell_type": "code",
   "execution_count": 14,
   "metadata": {},
   "outputs": [
    {
     "name": "stdout",
     "output_type": "stream",
     "text": [
      "For num_bedroom the lower bound is 0 and  upper bound is 7.0\n",
      "For num_bathroom the lower bound is 0.5 and  upper bound is 4.5\n",
      "For finished_sqft the lower bound is 0 and  upper bound is 3329.0\n",
      "For tax_value the lower bound is 0 and  upper bound is 1031868.5\n",
      "For build_year the lower bound is 1907.125 and  upper bound is 2016.0\n",
      "For property_tax the lower bound is 0 and  upper bound is 11316.872500000001\n"
     ]
    },
    {
     "data": {
      "text/plain": [
       "(33636, 7)"
      ]
     },
     "execution_count": 14,
     "metadata": {},
     "output_type": "execute_result"
    }
   ],
   "source": [
    "# remove outliers\n",
    "cols = df.drop(columns='fips')\n",
    "df = wrangle.outlier_bounds(df, cols)\n",
    "df.shape"
   ]
  },
  {
   "cell_type": "code",
   "execution_count": 16,
   "metadata": {},
   "outputs": [
    {
     "data": {
      "text/html": [
       "<div>\n",
       "<style scoped>\n",
       "    .dataframe tbody tr th:only-of-type {\n",
       "        vertical-align: middle;\n",
       "    }\n",
       "\n",
       "    .dataframe tbody tr th {\n",
       "        vertical-align: top;\n",
       "    }\n",
       "\n",
       "    .dataframe thead th {\n",
       "        text-align: right;\n",
       "    }\n",
       "</style>\n",
       "<table border=\"1\" class=\"dataframe\">\n",
       "  <thead>\n",
       "    <tr style=\"text-align: right;\">\n",
       "      <th></th>\n",
       "      <th>num_bedroom</th>\n",
       "      <th>num_bathroom</th>\n",
       "      <th>finished_sqft</th>\n",
       "      <th>tax_value</th>\n",
       "      <th>build_year</th>\n",
       "      <th>property_tax</th>\n",
       "      <th>fips</th>\n",
       "    </tr>\n",
       "  </thead>\n",
       "  <tbody>\n",
       "    <tr>\n",
       "      <th>0</th>\n",
       "      <td>3.0</td>\n",
       "      <td>2.0</td>\n",
       "      <td>1125.0</td>\n",
       "      <td>289445.0</td>\n",
       "      <td>1974.0</td>\n",
       "      <td>3490.16</td>\n",
       "      <td>6059.0</td>\n",
       "    </tr>\n",
       "    <tr>\n",
       "      <th>1</th>\n",
       "      <td>3.0</td>\n",
       "      <td>2.0</td>\n",
       "      <td>1316.0</td>\n",
       "      <td>205123.0</td>\n",
       "      <td>1923.0</td>\n",
       "      <td>2627.48</td>\n",
       "      <td>6037.0</td>\n",
       "    </tr>\n",
       "    <tr>\n",
       "      <th>2</th>\n",
       "      <td>3.0</td>\n",
       "      <td>2.0</td>\n",
       "      <td>1458.0</td>\n",
       "      <td>136104.0</td>\n",
       "      <td>1970.0</td>\n",
       "      <td>2319.90</td>\n",
       "      <td>6037.0</td>\n",
       "    </tr>\n",
       "  </tbody>\n",
       "</table>\n",
       "</div>"
      ],
      "text/plain": [
       "   num_bedroom  num_bathroom  finished_sqft  tax_value  build_year  \\\n",
       "0          3.0           2.0         1125.0   289445.0      1974.0   \n",
       "1          3.0           2.0         1316.0   205123.0      1923.0   \n",
       "2          3.0           2.0         1458.0   136104.0      1970.0   \n",
       "\n",
       "   property_tax    fips  \n",
       "0       3490.16  6059.0  \n",
       "1       2627.48  6037.0  \n",
       "2       2319.90  6037.0  "
      ]
     },
     "execution_count": 16,
     "metadata": {},
     "output_type": "execute_result"
    }
   ],
   "source": [
    "# take a look at the dataframe with removed outliers\n",
    "df.head(3)"
   ]
  },
  {
   "cell_type": "code",
   "execution_count": 17,
   "metadata": {},
   "outputs": [
    {
     "name": "stdout",
     "output_type": "stream",
     "text": [
      "num_bedroom\n",
      "3.0    14380\n",
      "2.0     9344\n",
      "4.0     7034\n",
      "1.0     1631\n",
      "5.0     1116\n",
      "6.0      116\n",
      "7.0       15\n",
      "Name: num_bedroom, dtype: int64\n",
      "-------------\n",
      "num_bathroom\n",
      "2.0    15251\n",
      "3.0     7112\n",
      "1.0     6340\n",
      "2.5     3433\n",
      "1.5      731\n",
      "4.0      502\n",
      "3.5      235\n",
      "4.5       32\n",
      "Name: num_bathroom, dtype: int64\n",
      "-------------\n",
      "fips\n",
      "6037.0    21101\n",
      "6059.0     9676\n",
      "6111.0     2859\n",
      "Name: fips, dtype: int64\n",
      "-------------\n"
     ]
    }
   ],
   "source": [
    "# take a look at clean value counts\n",
    "column = ['num_bedroom', 'num_bathroom', 'fips']\n",
    "wrangle.value_counts(df, column)"
   ]
  },
  {
   "cell_type": "code",
   "execution_count": null,
   "metadata": {},
   "outputs": [],
   "source": []
  },
  {
   "cell_type": "code",
   "execution_count": null,
   "metadata": {},
   "outputs": [],
   "source": []
  },
  {
   "cell_type": "code",
   "execution_count": 15,
   "metadata": {},
   "outputs": [],
   "source": [
    "# To use when I want to concatenate my dfs back together\n",
    "# df = pd.concat([x_train_scaled, y_train], axis=0)"
   ]
  },
  {
   "cell_type": "code",
   "execution_count": null,
   "metadata": {},
   "outputs": [],
   "source": []
  },
  {
   "cell_type": "code",
   "execution_count": null,
   "metadata": {},
   "outputs": [],
   "source": []
  },
  {
   "cell_type": "code",
   "execution_count": null,
   "metadata": {},
   "outputs": [],
   "source": []
  }
 ],
 "metadata": {
  "kernelspec": {
   "display_name": "Python 3",
   "language": "python",
   "name": "python3"
  },
  "language_info": {
   "codemirror_mode": {
    "name": "ipython",
    "version": 3
   },
   "file_extension": ".py",
   "mimetype": "text/x-python",
   "name": "python",
   "nbconvert_exporter": "python",
   "pygments_lexer": "ipython3",
   "version": "3.8.5"
  }
 },
 "nbformat": 4,
 "nbformat_minor": 4
}
